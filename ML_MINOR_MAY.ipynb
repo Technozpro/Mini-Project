{
  "nbformat": 4,
  "nbformat_minor": 0,
  "metadata": {
    "colab": {
      "name": " ML-MINOR-MAY.ipynb",
      "provenance": [],
      "collapsed_sections": [],
      "mount_file_id": "1byyAMxrhuJgX5KPX_rTYbaqsCzk9ZTaR",
      "authorship_tag": "ABX9TyO+GF//6Ntzc1HP2WtBqVmk",
      "include_colab_link": true
    },
    "kernelspec": {
      "display_name": "Python 3",
      "name": "python3"
    },
    "language_info": {
      "name": "python"
    }
  },
  "cells": [
    {
      "cell_type": "markdown",
      "metadata": {
        "id": "view-in-github",
        "colab_type": "text"
      },
      "source": [
        "<a href=\"https://colab.research.google.com/github/Technozpro/Mini-Project-/blob/main/ML_MINOR_MAY.ipynb\" target=\"_parent\"><img src=\"https://colab.research.google.com/assets/colab-badge.svg\" alt=\"Open In Colab\"/></a>"
      ]
    },
    {
      "cell_type": "code",
      "metadata": {
        "id": "anI1GKUnMlML"
      },
      "source": [
        "import os\n",
        "import numpy as np\n",
        "import pandas as pd\n",
        "import matplotlib.pyplot as plt\n",
        "from skimage.io import imread\n",
        "from skimage.transform import resize"
      ],
      "execution_count": 46,
      "outputs": []
    },
    {
      "cell_type": "code",
      "metadata": {
        "id": "hChTGHwWWjj0"
      },
      "source": [
        "Output = []\n",
        "Images = []\n",
        "Flat_data = []\n",
        "Images_Path = '/content/drive/MyDrive/Colab Notebooks/images'\n",
        "Categories =['Laptop', 'Mobile', 'Supercar']\n",
        "\n",
        "\n",
        "for category in Categories:\n",
        "  class_num = Categories.index(category)\n",
        "  path = os.path.join(Images_Path, category)\n",
        "  #print(path)\n",
        "  for img in os.listdir(path):\n",
        "    img_array = imread(os.path.join(path,img))\n",
        "    #print(img_array.shape) \n",
        "    #plt.imshow(img_array)\n",
        "    img_resized = resize(img_array,(150,150,3))\n",
        "    Flat_data.append(img_resized.flatten())\n",
        "    Images.append(img_resized)\n",
        "    Output.append(class_num)\n",
        "\n",
        "Flat_data = np.array(Flat_data)\n",
        "Output = np.array(Output)\n",
        "Images = np.array(Images)"
      ],
      "execution_count": 47,
      "outputs": []
    },
    {
      "cell_type": "code",
      "metadata": {
        "colab": {
          "base_uri": "https://localhost:8080/"
        },
        "id": "a3ZFBjCXZPXs",
        "outputId": "3a43d104-dc1c-4c0d-d5e2-697dea0eb0e3"
      },
      "source": [
        "Flat_data[0]"
      ],
      "execution_count": 48,
      "outputs": [
        {
          "output_type": "execute_result",
          "data": {
            "text/plain": [
              "array([0.99215686, 0.99215686, 0.99215686, ..., 0.99215686, 0.99215686,\n",
              "       0.99215686])"
            ]
          },
          "metadata": {
            "tags": []
          },
          "execution_count": 48
        }
      ]
    },
    {
      "cell_type": "code",
      "metadata": {
        "colab": {
          "base_uri": "https://localhost:8080/",
          "height": 282
        },
        "id": "yf7eWiHSda65",
        "outputId": "23bf01fd-8a9b-41e9-9855-a62769578081"
      },
      "source": [
        "unique,count = np.unique(Output, return_counts=True)\n",
        "plt.bar(Categories,count)"
      ],
      "execution_count": 49,
      "outputs": [
        {
          "output_type": "execute_result",
          "data": {
            "text/plain": [
              "<BarContainer object of 3 artists>"
            ]
          },
          "metadata": {
            "tags": []
          },
          "execution_count": 49
        },
        {
          "output_type": "display_data",
          "data": {
            "image/png": "[encoded data removed]",
            "text/plain": [
              "<Figure size 432x288 with 1 Axes>"
            ]
          },
          "metadata": {
            "tags": [],
            "needs_background": "light"
          }
        }
      ]
    },
    {
      "cell_type": "code",
      "metadata": {
        "id": "TB6bqRl5egXH"
      },
      "source": [
        "#Spilting Data Into Training And Testing\n",
        "from sklearn.model_selection import train_test_split\n",
        "x_train,x_test,y_train,y_test = train_test_split(Flat_data,Output,test_size=0.3,random_state=120)"
      ],
      "execution_count": 50,
      "outputs": []
    },
    {
      "cell_type": "code",
      "metadata": {
        "colab": {
          "base_uri": "https://localhost:8080/"
        },
        "id": "JhiRtO-pfeCV",
        "outputId": "15a9d475-a07e-47e8-f0a6-13faebb5e22a"
      },
      "source": [
        "from sklearn.model_selection import GridSearchCV\n",
        "from sklearn import svm\n",
        "param_grid = [\n",
        "              {'C':[1,10,100,1000],'kernel':['sigmoid']},\n",
        "              {'C':[1,10,100,1000],'gamma':['auto','scale'], 'kernel':['rbf']},\n",
        "]\n",
        "svc = svm.SVC(probability=True)\n",
        "clf = GridSearchCV(svc,param_grid, cv=5)\n",
        "clf.fit(x_train,y_train)"
      ],
      "execution_count": 51,
      "outputs": [
        {
          "output_type": "execute_result",
          "data": {
            "text/plain": [
              "GridSearchCV(cv=5, error_score=nan,\n",
              "             estimator=SVC(C=1.0, break_ties=False, cache_size=200,\n",
              "                           class_weight=None, coef0=0.0,\n",
              "                           decision_function_shape='ovr', degree=3,\n",
              "                           gamma='scale', kernel='rbf', max_iter=-1,\n",
              "                           probability=True, random_state=None, shrinking=True,\n",
              "                           tol=0.001, verbose=False),\n",
              "             iid='deprecated', n_jobs=None,\n",
              "             param_grid=[{'C': [1, 10, 100, 1000], 'kernel': ['sigmoid']},\n",
              "                         {'C': [1, 10, 100, 1000], 'gamma': ['auto', 'scale'],\n",
              "                          'kernel': ['rbf']}],\n",
              "             pre_dispatch='2*n_jobs', refit=True, return_train_score=False,\n",
              "             scoring=None, verbose=0)"
            ]
          },
          "metadata": {
            "tags": []
          },
          "execution_count": 51
        }
      ]
    },
    {
      "cell_type": "code",
      "metadata": {
        "colab": {
          "base_uri": "https://localhost:8080/"
        },
        "id": "BVrAFErPhuWM",
        "outputId": "8a4e2a82-fc66-4cb8-96f2-1e10ab21ae44"
      },
      "source": [
        "y_pred = clf.predict(x_test)\n",
        "y_pred"
      ],
      "execution_count": 52,
      "outputs": [
        {
          "output_type": "execute_result",
          "data": {
            "text/plain": [
              "array([1, 2, 0, 1, 2, 2, 2, 0, 1, 2, 0, 1, 1, 1, 0, 2, 0, 0, 0, 0, 2, 0,\n",
              "       2, 0, 1, 2, 1, 1, 1, 2, 0, 0, 2, 2, 2, 2, 2, 0, 2, 2, 0, 1, 2, 2,\n",
              "       1])"
            ]
          },
          "metadata": {
            "tags": []
          },
          "execution_count": 52
        }
      ]
    },
    {
      "cell_type": "code",
      "metadata": {
        "colab": {
          "base_uri": "https://localhost:8080/"
        },
        "id": "b0WA1DcGjueU",
        "outputId": "bac59818-8d93-4060-e147-eab707db7c2e"
      },
      "source": [
        "from sklearn.metrics import accuracy_score,confusion_matrix\n",
        "accuracy_score(y_pred,y_test)"
      ],
      "execution_count": 53,
      "outputs": [
        {
          "output_type": "execute_result",
          "data": {
            "text/plain": [
              "0.7333333333333333"
            ]
          },
          "metadata": {
            "tags": []
          },
          "execution_count": 53
        }
      ]
    },
    {
      "cell_type": "code",
      "metadata": {
        "colab": {
          "base_uri": "https://localhost:8080/"
        },
        "id": "t0jE0L8rj8XF",
        "outputId": "69964205-a3ba-4f4b-9f84-83a31a23f8de"
      },
      "source": [
        "confusion_matrix(y_pred,y_test)"
      ],
      "execution_count": 54,
      "outputs": [
        {
          "output_type": "execute_result",
          "data": {
            "text/plain": [
              "array([[11,  3,  0],\n",
              "       [ 4,  8,  0],\n",
              "       [ 4,  1, 14]])"
            ]
          },
          "metadata": {
            "tags": []
          },
          "execution_count": 54
        }
      ]
    },
    {
      "cell_type": "code",
      "metadata": {
        "colab": {
          "base_uri": "https://localhost:8080/"
        },
        "id": "ecPhCr07iGw7",
        "outputId": "389199e3-d222-4269-bde7-fd539f3e778e"
      },
      "source": [
        "from sklearn.metrics import accuracy_score,classification_report\n",
        "print(classification_report(y_pred,y_test))"
      ],
      "execution_count": 55,
      "outputs": [
        {
          "output_type": "stream",
          "text": [
            "              precision    recall  f1-score   support\n",
            "\n",
            "           0       0.58      0.79      0.67        14\n",
            "           1       0.67      0.67      0.67        12\n",
            "           2       1.00      0.74      0.85        19\n",
            "\n",
            "    accuracy                           0.73        45\n",
            "   macro avg       0.75      0.73      0.73        45\n",
            "weighted avg       0.78      0.73      0.74        45\n",
            "\n"
          ],
          "name": "stdout"
        }
      ]
    },
    {
      "cell_type": "code",
      "metadata": {
        "id": "sbASO3iRkV-o"
      },
      "source": [
        "import pickle\n",
        "pickle.dump(clf,open('img_model.p','wb'))\n"
      ],
      "execution_count": 56,
      "outputs": []
    },
    {
      "cell_type": "code",
      "metadata": {
        "id": "OCx89xsDnIAS"
      },
      "source": [
        "model = pickle.load(open('img_model.p','rb'))"
      ],
      "execution_count": 57,
      "outputs": []
    },
    {
      "cell_type": "code",
      "metadata": {
        "colab": {
          "base_uri": "https://localhost:8080/",
          "height": 320
        },
        "id": "rjSSIL0RndBp",
        "outputId": "75522f81-8c21-49af-d6d6-c37e4074aeda"
      },
      "source": [
        "Flat_data = []\n",
        "url = input('Enter Url')\n",
        "img = imread(url)\n",
        "img_resized = resize(img,(150,150,3))\n",
        "Flat_data.append(img_resized.flatten())\n",
        "Flat_data = np.array(Flat_data)\n",
        "print(img.shape)\n",
        "plt.imshow(img_resized)\n",
        "y_out = model.predict(Flat_data)\n",
        "y_out = Categories[y_out[0]]\n",
        "print(f'PREDICIRED OUTPUT:{y_out}')"
      ],
      "execution_count": 58,
      "outputs": [
        {
          "output_type": "stream",
          "text": [
            "Enter Urlhttp://i01.appmifile.com/v1/MI_18455B3E4DA706226CF7535A58E875F0267/pms_1604992511.27313054.jpg?width=200&height=200\n",
            "(200, 200, 3)\n",
            "PREDICIRED OUTPUT:Laptop\n"
          ],
          "name": "stdout"
        },
        {
          "output_type": "display_data",
          "data": {
            "image/png": "[encoded data removed]",
            "text/plain": [
              "<Figure size 432x288 with 1 Axes>"
            ]
          },
          "metadata": {
            "tags": [],
            "needs_background": "light"
          }
        }
      ]
    },
    {
      "cell_type": "code",
      "metadata": {
        "id": "LqAW6LNrkULL"
      },
      "source": [
        ""
      ],
      "execution_count": 58,
      "outputs": []
    }
  ]
}