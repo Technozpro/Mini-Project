{
  "nbformat": 4,
  "nbformat_minor": 0,
  "metadata": {
    "colab": {
      "name": "ML_MINOR_MAY.ipynb",
      "provenance": [],
      "collapsed_sections": [],
      "include_colab_link": true
    },
    "kernelspec": {
      "display_name": "Python 3",
      "name": "python3"
    },
    "language_info": {
      "name": "python"
    }
  },
  "cells": [
    {
      "cell_type": "markdown",
      "metadata": {
        "id": "view-in-github",
        "colab_type": "text"
      },
      "source": [
        "<a href=\"https://colab.research.google.com/github/Technozpro/Mini-Project-/blob/main/ML_MINOR_MAY.ipynb\" target=\"_parent\"><img src=\"https://colab.research.google.com/assets/colab-badge.svg\" alt=\"Open In Colab\"/></a>"
      ]
    },
    {
      "cell_type": "code",
      "metadata": {
        "id": "anI1GKUnMlML"
      },
      "source": [
        "import os\n",
        "import numpy as np\n",
        "import pandas as pd\n",
        "import matplotlib.pyplot as plt\n",
        "from skimage.io import imread\n",
        "from skimage.transform import resize"
      ],
      "execution_count": 122,
      "outputs": []
    },
    {
      "cell_type": "code",
      "metadata": {
        "colab": {
          "base_uri": "https://localhost:8080/"
        },
        "id": "5xtHPTJguaGB",
        "outputId": "f7fe299f-8d19-4740-d7e7-7a1e73db1722"
      },
      "source": [
        "from google.colab import drive\n",
        "drive.mount('/content/drive')"
      ],
      "execution_count": 123,
      "outputs": [
        {
          "output_type": "stream",
          "text": [
            "Drive already mounted at /content/drive; to attempt to forcibly remount, call drive.mount(\"/content/drive\", force_remount=True).\n"
          ],
          "name": "stdout"
        }
      ]
    },
    {
      "cell_type": "code",
      "metadata": {
        "id": "hChTGHwWWjj0"
      },
      "source": [
        "Output = []\n",
        "Images = []\n",
        "Flat_data = []\n",
        "Images_Path = '/content/drive/MyDrive/Colab Notebooks/images'\n",
        "Categories =['Laptop', 'Mobile', 'Supercar']\n",
        "\n",
        "\n",
        "for category in Categories:\n",
        "  class_num = Categories.index(category)\n",
        "  path = os.path.join(Images_Path, category)\n",
        "  #print(path)\n",
        "  for img in os.listdir(path):\n",
        "    img_array = imread(os.path.join(path,img))\n",
        "    #print(img_array.shape) \n",
        "    #plt.imshow(img_array)\n",
        "    img_resized = resize(img_array,(150,150,3))\n",
        "    Flat_data.append(img_resized.flatten())\n",
        "    Images.append(img_resized)\n",
        "    Output.append(class_num)\n",
        "\n",
        "Flat_data = np.array(Flat_data)\n",
        "Output = np.array(Output)\n",
        "Images = np.array(Images)"
      ],
      "execution_count": 124,
      "outputs": []
    },
    {
      "cell_type": "code",
      "metadata": {
        "colab": {
          "base_uri": "https://localhost:8080/"
        },
        "id": "a3ZFBjCXZPXs",
        "outputId": "38d9356e-3f83-47a7-88cc-2609e871ebc7"
      },
      "source": [
        "Flat_data[0]"
      ],
      "execution_count": 125,
      "outputs": [
        {
          "output_type": "execute_result",
          "data": {
            "text/plain": [
              "array([0.99215686, 0.99215686, 0.99215686, ..., 0.99215686, 0.99215686,\n",
              "       0.99215686])"
            ]
          },
          "metadata": {
            "tags": []
          },
          "execution_count": 125
        }
      ]
    },
    {
      "cell_type": "code",
      "metadata": {
        "colab": {
          "base_uri": "https://localhost:8080/",
          "height": 282
        },
        "id": "yf7eWiHSda65",
        "outputId": "c092045c-f691-40fd-9206-766df6d13bc8"
      },
      "source": [
        "unique,count = np.unique(Output, return_counts=True)\n",
        "plt.bar(Categories,count)"
      ],
      "execution_count": 126,
      "outputs": [
        {
          "output_type": "execute_result",
          "data": {
            "text/plain": [
              "<BarContainer object of 3 artists>"
            ]
          },
          "metadata": {
            "tags": []
          },
          "execution_count": 126
        },
        {
          "output_type": "display_data",
          "data": {
            "image/png": "[encoded data removed]",
            "text/plain": [
              "<Figure size 432x288 with 1 Axes>"
            ]
          },
          "metadata": {
            "tags": [],
            "needs_background": "light"
          }
        }
      ]
    },
    {
      "cell_type": "code",
      "metadata": {
        "id": "TB6bqRl5egXH"
      },
      "source": [
        "#Spilting Data Into Training And Testing\n",
        "from sklearn.model_selection import train_test_split\n",
        "x_train,x_test,y_train,y_test = train_test_split(Flat_data,Output,test_size=0.3,random_state=188)"
      ],
      "execution_count": 127,
      "outputs": []
    },
    {
      "cell_type": "code",
      "metadata": {
        "colab": {
          "base_uri": "https://localhost:8080/"
        },
        "id": "JhiRtO-pfeCV",
        "outputId": "648463be-c0f2-4b68-f2f6-59331ca62558"
      },
      "source": [
        "from sklearn.model_selection import GridSearchCV\n",
        "from sklearn import svm\n",
        "param_grid = [\n",
        "              {'C':[1,10,100,1000],'kernel':['linear']},\n",
        "              {'C':[1,10,100,1000],'gamma':['auto','scale'],'kernel':['rbf']},\n",
        "]\n",
        "svc = svm.SVC(probability=True)\n",
        "clf = GridSearchCV(svc,param_grid,cv=3)\n",
        "clf.fit(x_train,y_train)"
      ],
      "execution_count": 121,
      "outputs": [
        {
          "output_type": "execute_result",
          "data": {
            "text/plain": [
              "GridSearchCV(cv=5, error_score=nan,\n",
              "             estimator=SVC(C=1.0, break_ties=False, cache_size=200,\n",
              "                           class_weight=None, coef0=0.0,\n",
              "                           decision_function_shape='ovr', degree=3,\n",
              "                           gamma='scale', kernel='rbf', max_iter=-1,\n",
              "                           probability=True, random_state=None, shrinking=True,\n",
              "                           tol=0.001, verbose=False),\n",
              "             iid='deprecated', n_jobs=None,\n",
              "             param_grid=[{'C': [1, 10, 100, 1000], 'kernel': ['linear']},\n",
              "                         {'C': [1, 10, 100, 1000], 'gamma': ['auto', 'scale'],\n",
              "                          'kernel': ['rbf']}],\n",
              "             pre_dispatch='2*n_jobs', refit=True, return_train_score=False,\n",
              "             scoring=None, verbose=0)"
            ]
          },
          "metadata": {
            "tags": []
          },
          "execution_count": 121
        }
      ]
    },
    {
      "cell_type": "code",
      "metadata": {
        "id": "BVrAFErPhuWM",
        "colab": {
          "base_uri": "https://localhost:8080/"
        },
        "outputId": "db235228-1ecf-45ca-f4f4-fa034d3de8e0"
      },
      "source": [
        "y_pred = clf.predict(x_test)\n",
        "y_pred"
      ],
      "execution_count": 128,
      "outputs": [
        {
          "output_type": "execute_result",
          "data": {
            "text/plain": [
              "array([2, 0, 2, 2, 0, 0, 0, 1, 2, 0, 0, 0, 0, 1, 0, 2, 2, 0, 1, 0, 0, 1,\n",
              "       2, 2, 0, 2, 2, 2, 2, 2, 0, 2, 2, 1, 2, 2, 1, 0, 0, 1, 1, 2, 0, 1,\n",
              "       0])"
            ]
          },
          "metadata": {
            "tags": []
          },
          "execution_count": 128
        }
      ]
    },
    {
      "cell_type": "code",
      "metadata": {
        "id": "b0WA1DcGjueU",
        "colab": {
          "base_uri": "https://localhost:8080/"
        },
        "outputId": "30da6489-3438-4a32-f505-03e9836f6275"
      },
      "source": [
        "from sklearn.metrics import accuracy_score,confusion_matrix\n",
        "accuracy_score(y_pred,y_test)"
      ],
      "execution_count": 129,
      "outputs": [
        {
          "output_type": "execute_result",
          "data": {
            "text/plain": [
              "0.8444444444444444"
            ]
          },
          "metadata": {
            "tags": []
          },
          "execution_count": 129
        }
      ]
    },
    {
      "cell_type": "code",
      "metadata": {
        "id": "t0jE0L8rj8XF",
        "colab": {
          "base_uri": "https://localhost:8080/"
        },
        "outputId": "3f97a1ef-4099-46ed-be8a-03cb062c3956"
      },
      "source": [
        "confusion_matrix(y_pred,y_test)"
      ],
      "execution_count": 130,
      "outputs": [
        {
          "output_type": "execute_result",
          "data": {
            "text/plain": [
              "array([[14,  1,  3],\n",
              "       [ 0,  9,  0],\n",
              "       [ 2,  1, 15]])"
            ]
          },
          "metadata": {
            "tags": []
          },
          "execution_count": 130
        }
      ]
    },
    {
      "cell_type": "code",
      "metadata": {
        "id": "ecPhCr07iGw7",
        "colab": {
          "base_uri": "https://localhost:8080/"
        },
        "outputId": "b482a675-9c7f-40fa-c8e5-0a21735b1121"
      },
      "source": [
        "from sklearn.metrics import accuracy_score,classification_report\n",
        "print(classification_report(y_pred,y_test))"
      ],
      "execution_count": 131,
      "outputs": [
        {
          "output_type": "stream",
          "text": [
            "              precision    recall  f1-score   support\n",
            "\n",
            "           0       0.88      0.78      0.82        18\n",
            "           1       0.82      1.00      0.90         9\n",
            "           2       0.83      0.83      0.83        18\n",
            "\n",
            "    accuracy                           0.84        45\n",
            "   macro avg       0.84      0.87      0.85        45\n",
            "weighted avg       0.85      0.84      0.84        45\n",
            "\n"
          ],
          "name": "stdout"
        }
      ]
    },
    {
      "cell_type": "code",
      "metadata": {
        "id": "sbASO3iRkV-o"
      },
      "source": [
        "import pickle\n",
        "pickle.dump(clf,open('img_model.p','wb'))\n"
      ],
      "execution_count": 135,
      "outputs": []
    },
    {
      "cell_type": "code",
      "metadata": {
        "id": "OCx89xsDnIAS"
      },
      "source": [
        "model = pickle.load(open('img_model.p','rb'))"
      ],
      "execution_count": 136,
      "outputs": []
    },
    {
      "cell_type": "code",
      "metadata": {
        "id": "rjSSIL0RndBp",
        "colab": {
          "base_uri": "https://localhost:8080/",
          "height": 320
        },
        "outputId": "4f7ab359-85aa-4215-d1df-40b2d17f3b9e"
      },
      "source": [
        "Flat_data = []\n",
        "url = input('Enter Url')\n",
        "img = imread(url)\n",
        "img_resized = resize(img,(150,150,3))\n",
        "Flat_data.append(img_resized.flatten())\n",
        "Flat_data = np.array(Flat_data)\n",
        "print(img.shape)\n",
        "plt.imshow(img_resized)\n",
        "y_out = model.predict(Flat_data)\n",
        "y_out = Categories[y_out[0]]\n",
        "print(f'PREDICIRED OUTPUT:{y_out}')"
      ],
      "execution_count": 138,
      "outputs": [
        {
          "output_type": "stream",
          "text": [
            "Enter Urlhttps://media.wired.com/photos/5aa18e3edc9df6500b90747b/1:1/w_2400,c_limit/CarRoundup-Mclaren.jpg\n",
            "(1800, 1800, 3)\n",
            "PREDICIRED OUTPUT:Supercar\n"
          ],
          "name": "stdout"
        },
        {
          "output_type": "display_data",
          "data": {
            "image/png": "[encoded data removed]",
            "text/plain": [
              "<Figure size 432x288 with 1 Axes>"
            ]
          },
          "metadata": {
            "tags": [],
            "needs_background": "light"
          }
        }
      ]
    },
    {
      "cell_type": "code",
      "metadata": {
        "id": "UyYL70q0Pf7u"
      },
      "source": [
        ""
      ],
      "execution_count": 134,
      "outputs": []
    }
  ]
}